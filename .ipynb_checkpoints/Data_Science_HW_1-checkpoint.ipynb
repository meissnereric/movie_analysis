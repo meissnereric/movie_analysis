{
 "metadata": {
  "name": ""
 },
 "nbformat": 3,
 "nbformat_minor": 0,
 "worksheets": [
  {
   "cells": [
    {
     "cell_type": "code",
     "collapsed": false,
     "input": [
      "%matplotlib inline\n",
      "\n",
      "import matplotlib \n",
      "import csv\n",
      "import numpy as np\n",
      "import matplotlib.pyplot as plt\n",
      "from scipy import stats"
     ],
     "language": "python",
     "metadata": {},
     "outputs": [],
     "prompt_number": 1
    },
    {
     "cell_type": "markdown",
     "metadata": {},
     "source": [
      "Here we define some utility functions used in parsing and cleaning the data."
     ]
    },
    {
     "cell_type": "code",
     "collapsed": false,
     "input": [
      "def isnum(a):\n",
      "    try:\n",
      "        float(a)\n",
      "    except ValueError:\n",
      "        return False\n",
      "    return True\n",
      "def reject_outliers(data, m=2):\n",
      "    return data[np.logical_and(abs(data - np.mean(data)) < m * np.std(data),data > 0)]\n",
      "def get_stats(data, index):\n",
      "    overall = np.array([x for x in data[1:,index] if isnum(x)]).astype(np.float)\n",
      "    overall = reject_outliers(overall,2)\n",
      "    overallStats = (np.mean(overall), np.median(overall), stats.mode(overall), np.std(overall), np.max(overall), np.min(overall))\n",
      "    return overall, overallStats"
     ],
     "language": "python",
     "metadata": {},
     "outputs": [],
     "prompt_number": 2
    },
    {
     "cell_type": "code",
     "collapsed": false,
     "input": [
      "movies = []\n",
      "with open('movies.csv', 'rb') as csvfile:\n",
      "    moviereader = csv.reader(csvfile)\n",
      "    for row in moviereader:\n",
      "        movies.append(row)\n",
      "movies = np.array(movies)"
     ],
     "language": "python",
     "metadata": {},
     "outputs": [],
     "prompt_number": 3
    },
    {
     "cell_type": "heading",
     "level": 2,
     "metadata": {},
     "source": [
      "Problem 1 - Worldwide Distribution "
     ]
    },
    {
     "cell_type": "markdown",
     "metadata": {},
     "source": [
      "Now we calculate some central tendency measures for all movies' gross and plot a box plot!\n",
      "\n",
      "When cleaning the data, some movies have the value \"Unknown\" for their gross, which is not convertible to a float. That's why we take only values that return true for isnum(). \n",
      "\n",
      "The data is heavily centered at low gross profits, with an exponential tail towards very high profits. Honestly I'm not sure how to deal with a set of data that is so heavily skewed. I reject outliers that are more than 2 standard deviations from the mean as it's a commonly used method and I'm no statistician. \n",
      "\n",
      "The mode isn't particularly helpful. The median is significantly below the mean for this data, implying there are a few movies that do exceptionally well while most have low grosses. "
     ]
    },
    {
     "cell_type": "code",
     "collapsed": false,
     "input": [
      "wwgross_pre = np.array([x for x in movies[1:,2] if isnum(x)]).astype(np.float)\n",
      "wwgross = reject_outliers(wwgross_pre,2)\n",
      "wwGrossStats = (np.mean(wwgross), np.median(wwgross), stats.mode(wwgross), np.std(wwgross), np.max(wwgross), np.min(wwgross))\n",
      "print wwGrossStats\n"
     ],
     "language": "python",
     "metadata": {},
     "outputs": [
      {
       "output_type": "stream",
       "stream": "stdout",
       "text": [
        "(63227637.950645909, 29367143.0, (array([ 8000000.]), array([ 9.])), 81725815.301398709, 385000317.0, 401.0)\n"
       ]
      }
     ],
     "prompt_number": 4
    },
    {
     "cell_type": "code",
     "collapsed": false,
     "input": [
      "fig = plt.figure()\n",
      "ax = fig.add_subplot(111)\n",
      "ax.hist(wwgross_pre)\n",
      "plt.show()\n",
      "\n",
      "fig = plt.figure()\n",
      "ax = fig.add_subplot(111)\n",
      "ax.hist(wwgross)\n",
      "plt.show()"
     ],
     "language": "python",
     "metadata": {},
     "outputs": [
      {
       "metadata": {},
       "output_type": "display_data",
       "png": "[encoded data removed]",
       "text": [
        "<matplotlib.figure.Figure at 0x7f2e48548b90>"
       ]
      },
      {
       "metadata": {},
       "output_type": "display_data",
       "png": "[encoded data removed]",
       "text": [
        "<matplotlib.figure.Figure at 0x7f2e48474f10>"
       ]
      }
     ],
     "prompt_number": 5
    },
    {
     "cell_type": "code",
     "collapsed": false,
     "input": [
      "fig = plt.figure()\n",
      "ax = fig.add_subplot(111)\n",
      "ax.boxplot(wwgross)\n",
      "plt.show()"
     ],
     "language": "python",
     "metadata": {},
     "outputs": [
      {
       "metadata": {},
       "output_type": "display_data",
       "png": "[encoded data removed]",
       "text": [
        "<matplotlib.figure.Figure at 0x7f2e48548510>"
       ]
      }
     ],
     "prompt_number": 6
    },
    {
     "cell_type": "markdown",
     "metadata": {},
     "source": [
      "We now turn to analyzing the top-5 distributors of movies, following the same process as above."
     ]
    },
    {
     "cell_type": "code",
     "collapsed": false,
     "input": [
      "distributors = []\n",
      "dist_i = 8\n",
      "for row in movies[1:]:\n",
      "    if row[dist_i] not in distributors:\n",
      "        distributors.append(row[dist_i])"
     ],
     "language": "python",
     "metadata": {},
     "outputs": [],
     "prompt_number": 7
    },
    {
     "cell_type": "code",
     "collapsed": false,
     "input": [
      "dist_grouped = []\n",
      "for d in distributors:\n",
      "    dist_grouped.append( [d, np.array([row for row in movies if row[dist_i] == d])])\n"
     ],
     "language": "python",
     "metadata": {},
     "outputs": [],
     "prompt_number": 8
    },
    {
     "cell_type": "code",
     "collapsed": false,
     "input": [
      "dist_sums = []\n",
      "for d in dist_grouped:\n",
      "    dist_sums.append(([d[0],sum(np.array([x for x in d[1][:,2] if isnum(x)]).astype(np.float))]))\n",
      "dist_sums.sort(key= lambda x: x[1], reverse=True)\n",
      "top6 = dist_sums[:6]\n",
      "print top6"
     ],
     "language": "python",
     "metadata": {},
     "outputs": [
      {
       "output_type": "stream",
       "stream": "stdout",
       "text": [
        "[['Warner Bros.', 39712039384.0], ['Walt Disney Pictures', 35458388004.0], ['20th Century Fox', 34739813057.0], ['Paramount Pictures', 34361820057.0], ['Sony Pictures', 32418346390.0], ['Universal', 30356787647.0]]\n"
       ]
      }
     ],
     "prompt_number": 9
    },
    {
     "cell_type": "code",
     "collapsed": false,
     "input": [
      "top6_rows = []\n",
      "for top in top6:\n",
      "    top6_rows.append([top[0], [row for row in movies if row[dist_i] == top[0]]])"
     ],
     "language": "python",
     "metadata": {},
     "outputs": [],
     "prompt_number": 10
    },
    {
     "cell_type": "code",
     "collapsed": false,
     "input": [
      "for big_dist in top6_rows:\n",
      "    dist = np.array(big_dist[1:][0])\n",
      "    wwgross = np.array([x for x in dist[:,2] if isnum(x)]).astype(np.float)\n",
      "    wwgross = reject_outliers(wwgross,2)\n",
      "    wwGrossStats = (np.mean(wwgross), np.median(wwgross), stats.mode(wwgross), np.std(wwgross), np.min(wwgross), np.max(wwgross))\n",
      "    print \"Mean : Median : Mode : Std : Min : Max\"\n",
      "    print wwGrossStats\n",
      "    fig = plt.figure()\n",
      "    ax = fig.add_subplot(111)\n",
      "    ax.boxplot(wwgross)\n",
      "    plt.show()"
     ],
     "language": "python",
     "metadata": {},
     "outputs": [
      {
       "output_type": "stream",
       "stream": "stdout",
       "text": [
        "Mean : Median : Mode : Std : Min : Max\n",
        "(97946257.976897687, 54540662.0, (array([ 5000000.]), array([ 2.])), 110985453.83315636, 126247.0, 474459076.0)\n"
       ]
      },
      {
       "metadata": {},
       "output_type": "display_data",
       "png": "[encoded data removed]",
       "text": [
        "<matplotlib.figure.Figure at 0x7f2e6807e350>"
       ]
      },
      {
       "output_type": "stream",
       "stream": "stdout",
       "text": [
        "Mean : Median : Mode : Std : Min : Max\n",
        "(116586633.79545455, 66459170.5, (array([ 45779.]), array([ 1.])), 127689287.14854014, 45779.0, 554600000.0)\n"
       ]
      },
      {
       "metadata": {},
       "output_type": "display_data",
       "png": "[encoded data removed]",
       "text": [
        "<matplotlib.figure.Figure at 0x7f2e483c9cd0>"
       ]
      },
      {
       "output_type": "stream",
       "stream": "stdout",
       "text": [
        "Mean : Median : Mode : Std : Min : Max\n",
        "(119945693.94545455, 62984793.5, (array([ 388390.]), array([ 1.])), 132172402.91969429, 388390.0, 574480841.0)\n"
       ]
      },
      {
       "metadata": {},
       "output_type": "display_data",
       "png": "[encoded data removed]",
       "text": [
        "<matplotlib.figure.Figure at 0x7f2e483d7e50>"
       ]
      },
      {
       "output_type": "stream",
       "stream": "stdout",
       "text": [
        "Mean : Median : Mode : Std : Min : Max\n",
        "(101323331.64876033, 64119833.0, (array([ 54606.]), array([ 1.])), 101067607.89296441, 54606.0, 491581231.0)\n"
       ]
      },
      {
       "metadata": {},
       "output_type": "display_data",
       "png": "[encoded data removed]",
       "text": [
        "<matplotlib.figure.Figure at 0x7f2e47eb0550>"
       ]
      },
      {
       "output_type": "stream",
       "stream": "stdout",
       "text": [
        "Mean : Median : Mode : Std : Min : Max\n",
        "(82855147.979381442, 53850527.0, (array([ 9598.]), array([ 1.])), 84666843.728490353, 9598.0, 376000000.0)\n"
       ]
      },
      {
       "metadata": {},
       "output_type": "display_data",
       "png": "[encoded data removed]",
       "text": [
        "<matplotlib.figure.Figure at 0x7f2e47df4850>"
       ]
      },
      {
       "output_type": "stream",
       "stream": "stdout",
       "text": [
        "Mean : Median : Mode : Std : Min : Max\n",
        "(99349241.695473254, 59431365.0, (array([ 6000000.]), array([ 2.])), 96341240.73238185, 691880.0, 381109762.0)\n"
       ]
      },
      {
       "metadata": {},
       "output_type": "display_data",
       "png": "[encoded data removed]",
       "text": [
        "<matplotlib.figure.Figure at 0x7f2e47d304d0>"
       ]
      }
     ],
     "prompt_number": 11
    },
    {
     "cell_type": "markdown",
     "metadata": {},
     "source": [
      "That concludes Problem 1."
     ]
    },
    {
     "cell_type": "heading",
     "level": 2,
     "metadata": {},
     "source": [
      "Problem 2"
     ]
    },
    {
     "cell_type": "markdown",
     "metadata": {},
     "source": [
      "In problem 2, we look at the correlation between US DVD sales of movies and their production budgets, again for all movies first and then for just the top 5 distributors, based on number of movies made this time."
     ]
    },
    {
     "cell_type": "code",
     "collapsed": false,
     "input": [
      "dvd_sales_i = 3\n",
      "prod_bud_i = 4\n",
      "\n",
      "overall = np.array([x for x in movies[1:,dvd_sales_i:prod_bud_i+1] if isnum(x[0]) and isnum(x[1])])\n",
      "overall_dvd = stats.zscore(np.array(overall[:,0]).astype(np.float))\n",
      "overall_prod = stats.zscore(np.array(overall[:,1]).astype(np.float))\n",
      "pearson = stats.pearsonr(overall_dvd, overall_prod)\n",
      "fig = plt.figure()\n",
      "ax = fig.add_subplot(111)\n",
      "ax.scatter(overall_dvd, overall_prod)\n",
      "plt.show()\n",
      "print \"Pearson Coefficient: \" + str(pearson)\n"
     ],
     "language": "python",
     "metadata": {},
     "outputs": [
      {
       "metadata": {},
       "output_type": "display_data",
       "png": "[encoded data removed]",
       "text": [
        "<matplotlib.figure.Figure at 0x7f2e47df4050>"
       ]
      },
      {
       "output_type": "stream",
       "stream": "stdout",
       "text": [
        "Pearson Coefficient: (0.59202191412497462, 1.5270314436786304e-54)\n"
       ]
      }
     ],
     "prompt_number": 12
    },
    {
     "cell_type": "code",
     "collapsed": false,
     "input": [
      "dist_num_movies = [[dist[0], len(dist[1])] for dist in dist_grouped if dist[0] != \"\"]\n",
      "dist_num_movies.sort(key=lambda x: x[1], reverse=True)\n",
      "top6_rows = []\n",
      "print \"Top 6 movies are: \"\n",
      "for top in dist_num_movies[:6]:\n",
      "    print top[0]\n",
      "    top6_rows.append([top[0], [row for row in movies if row[dist_i] == top[0]]])\n",
      "print \"\"\n",
      "for dirty_dist in top6_rows:\n",
      "    dist = np.array(dirty_dist[1:][0])\n",
      "    overall = np.array([x for x in dist[1:,dvd_sales_i:prod_bud_i+1] if isnum(x[0]) and isnum(x[1])])\n",
      "    overall_dvd = stats.zscore(np.array(overall[:,0]).astype(np.float))\n",
      "    overall_prod = stats.zscore(np.array(overall[:,1]).astype(np.float))\n",
      "    pearson = stats.pearsonr(overall_dvd, overall_prod)\n",
      "    fig = plt.figure()\n",
      "    ax = fig.add_subplot(111)\n",
      "    ax.scatter(overall_dvd, overall_prod)\n",
      "    plt.show()\n",
      "    print \"Pearson Coefficient for \" + str(dirty_dist[0]) + \" is \" + str(pearson)\n",
      "            "
     ],
     "language": "python",
     "metadata": {},
     "outputs": [
      {
       "output_type": "stream",
       "stream": "stdout",
       "text": [
        "Top 6 movies are: \n",
        "Warner Bros.\n",
        "Sony Pictures\n",
        "Paramount Pictures\n",
        "Universal\n",
        "Walt Disney Pictures\n",
        "20th Century Fox\n",
        "\n"
       ]
      },
      {
       "metadata": {},
       "output_type": "display_data",
       "png": "[encoded data removed]",
       "text": [
        "<matplotlib.figure.Figure at 0x7f2e47a10550>"
       ]
      },
      {
       "output_type": "stream",
       "stream": "stdout",
       "text": [
        "Pearson Coefficient for Warner Bros. is (0.48907060955392062, 1.5062835928126968e-05)\n"
       ]
      },
      {
       "metadata": {},
       "output_type": "display_data",
       "png": "[encoded data removed]",
       "text": [
        "<matplotlib.figure.Figure at 0x7f2e0c3a1950>"
       ]
      },
      {
       "output_type": "stream",
       "stream": "stdout",
       "text": [
        "Pearson Coefficient for Sony Pictures is (0.4150080481425103, 0.000650109845788543)\n"
       ]
      },
      {
       "metadata": {},
       "output_type": "display_data",
       "png": "[encoded data removed]",
       "text": [
        "<matplotlib.figure.Figure at 0x7f2e48423bd0>"
       ]
      },
      {
       "output_type": "stream",
       "stream": "stdout",
       "text": [
        "Pearson Coefficient for Paramount Pictures is (0.71037449047412604, 1.2428382567834893e-09)\n"
       ]
      },
      {
       "metadata": {},
       "output_type": "display_data",
       "png": "[encoded data removed]",
       "text": [
        "<matplotlib.figure.Figure at 0x7f2e47a33850>"
       ]
      },
      {
       "output_type": "stream",
       "stream": "stdout",
       "text": [
        "Pearson Coefficient for Universal is (0.5336537644887257, 3.2478783794672723e-05)\n"
       ]
      },
      {
       "metadata": {},
       "output_type": "display_data",
       "png": "[encoded data removed]",
       "text": [
        "<matplotlib.figure.Figure at 0x7f2e0c22a410>"
       ]
      },
      {
       "output_type": "stream",
       "stream": "stdout",
       "text": [
        "Pearson Coefficient for Walt Disney Pictures is (0.70717349840013533, 2.0410608002334782e-06)\n"
       ]
      },
      {
       "metadata": {},
       "output_type": "display_data",
       "png": "[encoded data removed]",
       "text": [
        "<matplotlib.figure.Figure at 0x7f2e47ea8b90>"
       ]
      },
      {
       "output_type": "stream",
       "stream": "stdout",
       "text": [
        "Pearson Coefficient for 20th Century Fox is (0.60664000034943655, 4.4747831117473855e-07)\n"
       ]
      }
     ],
     "prompt_number": 56
    },
    {
     "cell_type": "markdown",
     "metadata": {},
     "source": [
      "There's definitely *a* correlation between DVD sales and Production Budget, but it varies between firms from between 0.4 and 0.7, so between moderate-low to moderate-high. "
     ]
    },
    {
     "cell_type": "heading",
     "level": 2,
     "metadata": {},
     "source": [
      "Problem 3"
     ]
    },
    {
     "cell_type": "markdown",
     "metadata": {},
     "source": [
      "First for this problem, we need to normalize all of the data."
     ]
    },
    {
     "cell_type": "markdown",
     "metadata": {},
     "source": [
      "I use min/max scaling for numeric data to bring everything onto a [0,1] scale."
     ]
    },
    {
     "cell_type": "code",
     "collapsed": false,
     "input": [
      "#Normalize metrics - min-max normalize\n",
      "\n",
      "dist_i = 8\n",
      "source_i = 9\n",
      "genre_i = 10\n",
      "\n",
      "def float_equal(x1, x2):\n",
      "    return abs(x1 - x2) <=0.001\n",
      "\n",
      "imdb_votes_i = len(movies[0]) -1\n",
      "imdb_rating_i = imdb_votes_i -1\n",
      "rotten_i = imdb_votes_i - 2\n",
      "def normalizeRatings(movies):\n",
      "    \n",
      "    votes = np.array([x if isnum(x) else 0.00000 for x in movies[:,imdb_votes_i]]).astype(np.float)\n",
      "    im_ratings = np.array([x if isnum(x) else 0 for x in movies[:,imdb_rating_i]]).astype(np.float)\n",
      "    rotten_ratings = np.array([x if isnum(x) else 0 for x in movies[:,rotten_i]]).astype(np.float)\n",
      "    print votes\n",
      "    \n",
      "    voteMean = np.mean([x for x in votes if not float_equal(x,0)])\n",
      "    imMean = np.mean([x for x in im_ratings if not float_equal(x,0)])\n",
      "    rottenMean = np.mean([x for x in rotten_ratings if not float_equal(x,0)])\n",
      "    \n",
      "    print \"Vote : IMBD Rating : Rotten Rating Means\"\n",
      "    print str(voteMean) + \" : \" + str(imMean) + \" : \" + str(rottenMean)\n",
      "    \n",
      "    votes = np.array([x if not float_equal(x,0) else voteMean for x in votes])\n",
      "    im_ratings = np.array([x if not float_equal(x,0) else imMean for x in im_ratings])\n",
      "    rotten_ratings = np.array([x if not float_equal(x,0) else rottenMean for x in rotten_ratings])\n",
      "    \n",
      "    minVotes = min(votes)\n",
      "    maxVotes = max(votes)\n",
      "    minRotten = min(rotten_ratings)\n",
      "    maxRotten = max(rotten_ratings)\n",
      "    minImbdRating = min(im_ratings)\n",
      "    maxImbdRating = max(im_ratings)\n",
      "    \n",
      "    for i, movie in enumerate(movies):\n",
      "        movie[imdb_votes_i] = float(votes[i] - minVotes) / float(maxVotes - minVotes)\n",
      "        movie[imdb_rating_i] = float(im_ratings[i] - minImbdRating) / float(maxImbdRating - minImbdRating)\n",
      "        movie[rotten_i] = float(rotten_ratings[i] - minRotten) / float(maxRotten - minRotten)\n",
      "    \n",
      "    return movies"
     ],
     "language": "python",
     "metadata": {},
     "outputs": [],
     "prompt_number": 21
    },
    {
     "cell_type": "markdown",
     "metadata": {},
     "source": [
      "No special normalization here, just min/max scaling. "
     ]
    },
    {
     "cell_type": "code",
     "collapsed": false,
     "input": [
      "us_i = 1\n",
      "world_i = 2\n",
      "dvd_i = 3\n",
      "def normalizeRevenues(movies):\n",
      "    \n",
      "    usGross = np.array([x if isnum(x) else 0 for x in movies[:,us_i]]).astype(np.float)\n",
      "    worldGross = np.array([x if isnum(x) else 0 for x in movies[:,world_i]]).astype(np.float)\n",
      "    dvdSales = np.array([x if isnum(x) else 0 for x in movies[:,dvd_i]]).astype(np.float)\n",
      "    \n",
      "    usMean = np.mean([x for x in usGross if not float_equal(x,0)])\n",
      "    worldMean = np.mean([x for x in worldGross if not float_equal(x,0)])\n",
      "    dvdMean = np.mean([x for x in dvdSales if not float_equal(x,0)])\n",
      "    \n",
      "    print \"US Gross : World Gross : DVD\"\n",
      "    print str(usMean) + \" : \" + str(worldMean) + \" : \" + str(dvdMean)\n",
      "    \n",
      "    usGross = np.array([x if not float_equal(x,0) else usMean for x in usGross])\n",
      "\n",
      "\n",
      "    worldGross = np.array([x if not float_equal(x,0) else worldMean for x in worldGross])\n",
      "    dvdSales = np.array([x if not float_equal(x,0) else dvdMean for x in dvdSales])\n",
      "    \n",
      "    minUs = min(usGross)\n",
      "    maxUs = max(usGross)\n",
      "    minWorld = min(worldGross)\n",
      "    maxWorld = max(worldGross)\n",
      "    minDvd = min(dvdSales)\n",
      "    maxDvd = max(dvdSales)\n",
      "    \n",
      "    for i, movie in enumerate(movies):\n",
      "        movie[us_i] = float(usGross[i] - minUs) / float(maxUs - minUs)\n",
      "        movie[world_i] = float(worldGross[i] - minWorld) / float(maxWorld - minWorld)\n",
      "        movie[dvd_i] = float(dvdSales[i] - minDvd) / float(maxDvd - minDvd)\n",
      "    \n",
      "    return movies\n",
      "    \n",
      "    "
     ],
     "language": "python",
     "metadata": {},
     "outputs": []
    },
    {
     "cell_type": "markdown",
     "metadata": {},
     "source": [
      "Normalization here, other than the typical min/max norm only involved converting the MPAA ratings into an ordinal scale.\n",
      "For MPAA rating, I convert it into an ordinal variable with G on one end and NC-17 at the other, implying a G movie is more similar to a PG movie than it is to an R movie. "
     ]
    },
    {
     "cell_type": "code",
     "collapsed": false,
     "input": [
      "mpaa_i = 6\n",
      "runtime_i = 7\n",
      "def normalizeGeneral(movies):\n",
      "    runTimes = np.array([x if isnum(x) else 0 for x in movies[:,runtime_i]]).astype(np.float)\n",
      "    \n",
      "    runTimeMean = np.mean([x for x in runTimes if not float_equal(x,0)])\n",
      "    print \"RuntimeMean: \" + str(runTimeMean)\n",
      "    \n",
      "    runTimes = np.array([x if not float_equal(x,0) else runTimeMean for x in runTimes])\n",
      "    minRuntime = min(runTimes)\n",
      "    maxRuntime = max(runTimes)\n",
      "    \n",
      "    for i, movie in enumerate(movies):\n",
      "        movie[mpaa_i] = {\n",
      "                         'G': 0.0,\n",
      "                         'PG': .25,\n",
      "                         'PG-13': .5,\n",
      "                         'R': .75,\n",
      "                         'NC-17': 1.0,\n",
      "                         'Not Rated': '',\n",
      "                         '': ''\n",
      "                         }.get(movie[mpaa_i],'')\n",
      "        \n",
      "        movie[runtime_i] = float(runTimes[i] - minRuntime) / float(maxRuntime - minRuntime)\n",
      "    return movies\n",
      "        \n",
      "    "
     ],
     "language": "python",
     "metadata": {},
     "outputs": []
    },
    {
     "cell_type": "code",
     "collapsed": false,
     "input": [
      "dist_movies = np.array(movies[1:])\n",
      "normMovies = normalizeRatings(dist_movies)\n",
      "normMovies = normalizeGeneral(normMovies)\n",
      "normMovies = normalizeRevenues(normMovies)"
     ],
     "language": "python",
     "metadata": {},
     "outputs": [
      {
       "output_type": "stream",
       "stream": "stdout",
       "text": [
        "[  1071.    207.    865. ...,   7424.  21161.   4789.]\n",
        "Vote : IMBD Rating : Rotten Rating Means\n",
        "29908.6445783 : 6.28346720214 : 54.3369237398\n",
        "RuntimeMean: 110.193548387"
       ]
      },
      {
       "output_type": "stream",
       "stream": "stdout",
       "text": [
        "\n",
        "US Gross : World Gross : DVD"
       ]
      },
      {
       "output_type": "stream",
       "stream": "stdout",
       "text": [
        "\n",
        "44930517.907 : 86617991.7547 : 34901546.8174\n"
       ]
      }
     ],
     "prompt_number": 15
    },
    {
     "cell_type": "markdown",
     "metadata": {},
     "source": [
      "For distributor, genre, and source the meaningful similarity/distance between movies is whether or not they are exactly the same, and I've decided to use a simple matching valuation to determine similarity. This also brings the values onto a [0,1] scale. \n",
      "\n",
      "Everything else is already nice numeric value on [0,1], so finding distance is easy. "
     ]
    },
    {
     "cell_type": "code",
     "collapsed": false,
     "input": [
      "from random \n",
      "import uniform\n",
      "def euclidDistance(movie1, movie2, metric):\n",
      "    if metric == \"general\":\n",
      "        matches = 0\n",
      "        if movie1[dist_i] == movie2[dist_i]: #distributors\n",
      "            matches += 1.0\n",
      "        if movie1[source_i] == movie2[source_i]: #sources\n",
      "            matches += 1.0\n",
      "        if movie1[genre_i] == movie2[genre_i]: #genres\n",
      "            matches += 1.0\n",
      "        nominal_dist = 1.0 - float(matches) / 3.0\n",
      "        if isnum(movie1[mpaa_i]) and isnum(movie2[mpaa_i]):\n",
      "            mpaa_dist = (float(movie1[mpaa_i]) - float(movie2[mpaa_i])) ** 2 \n",
      "        else:\n",
      "            mpaa_dist = 0\n",
      "        runtime_dist = (float(movie1[runtime_i]) - float(movie2[runtime_i])) ** 2 \n",
      "        return (nominal_dist + mpaa_dist + runtime_dist) ** (0.5)\n",
      "    elif metric == \"ratings\":\n",
      "        vote_dist = (float(movie1[imdb_votes_i]) - float(movie2[imdb_votes_i])) ** 2 \n",
      "        imdb_dist = (float(movie1[imdb_rating_i]) - float(movie2[imdb_rating_i])) ** 2 \n",
      "        rotten_dist = (float(movie1[rotten_i]) - float(movie2[rotten_i])) ** 2 \n",
      "        return (vote_dist + imdb_dist + rotten_dist) ** (0.5)\n",
      "    elif metric == \"revenue\":\n",
      "        us_dist = (float(movie1[us_i]) - float(movie2[us_i])) ** 2 \n",
      "        world_dist = (float(movie1[world_i]) - float(movie2[world_i])) ** 2 \n",
      "        dvd_dist = (float(movie1[dvd_i]) - float(movie2[dvd_i])) ** 2 \n",
      "        return (us_dist + world_dist + dvd_dist) ** (0.5)\n",
      "    else:\n",
      "        matches = 0\n",
      "        if movie1[dist_i] == movie2[dist_i]: #distributors\n",
      "            matches += 1.0\n",
      "        if movie1[source_i] == movie2[source_i]: #sources\n",
      "            matches += 1.0\n",
      "        if movie1[genre_i] == movie2[genre_i]: #genres\n",
      "            matches += 1.0\n",
      "        nominal_dist = 1.0 - float(matches) / 3.0\n",
      "        if isnum(movie1[mpaa_i]) and isnum(movie2[mpaa_i]):\n",
      "            mpaa_dist = (float(movie1[mpaa_i]) - float(movie2[mpaa_i])) ** 2 \n",
      "        else:\n",
      "            mpaa_dist = 0\n",
      "        runtime_dist = (float(movie1[runtime_i]) - float(movie2[runtime_i])) ** 2 \n",
      "        \n",
      "        vote_dist = (float(movie1[imdb_votes_i]) - float(movie2[imdb_votes_i])) ** 2 \n",
      "        imdb_dist = (float(movie1[imdb_rating_i]) - float(movie2[imdb_rating_i])) ** 2 \n",
      "        rotten_dist = (float(movie1[rotten_i]) - float(movie2[rotten_i])) ** 2 \n",
      "        \n",
      "        us_dist = (float(movie1[us_i]) - float(movie2[us_i])) ** 2 \n",
      "        world_dist = (float(movie1[world_i]) - float(movie2[world_i])) ** 2 \n",
      "        dvd_dist = (float(movie1[dvd_i]) - float(movie2[dvd_i])) ** 2 \n",
      "        return (nominal_dist + mpaa_dist + runtime_dist + \n",
      "                vote_dist + imdb_dist + rotten_dist + \n",
      "                us_dist + world_dist + dvd_dist) ** (0.5)\n",
      "    \n",
      "def manhatDistance(movie1, movie2, metric):\n",
      "    if metric == \"general\":\n",
      "        matches = 0\n",
      "        if movie1[dist_i] == movie2[dist_i]: #distributors\n",
      "            matches += 1.0\n",
      "        if movie1[source_i] == movie2[source_i]: #sources\n",
      "            matches += 1.0\n",
      "        if movie1[genre_i] == movie2[genre_i]: #genres\n",
      "            matches += 1.0\n",
      "        nominal_dist = 1.0 - float(matches) / 3.0\n",
      "        if isnum(movie1[mpaa_i]) and isnum(movie2[mpaa_i]):\n",
      "            mpaa_dist = abs(float(movie1[mpaa_i]) - float(movie2[mpaa_i]))\n",
      "        else:\n",
      "            mpaa_dist = 0\n",
      "        runtime_dist = (float(movie1[runtime_i]) - float(movie2[runtime_i]))\n",
      "        return (nominal_dist + mpaa_dist + runtime_dist)\n",
      "    elif metric == \"ratings\":\n",
      "        vote_dist = abs(float(movie1[imdb_votes_i]) - float(movie2[imdb_votes_i])) \n",
      "        imdb_dist = abs(float(movie1[imdb_rating_i]) - float(movie2[imdb_rating_i])) \n",
      "        rotten_dist = abs(float(movie1[rotten_i]) - float(movie2[rotten_i])) \n",
      "        return (vote_dist + imdb_dist + rotten_dist)\n",
      "    elif metric == \"revenue\":\n",
      "        us_dist = abs(float(movie1[us_i]) - float(movie2[us_i]))\n",
      "        world_dist = abs(float(movie1[world_i]) - float(movie2[world_i])) \n",
      "        dvd_dist = abs(float(movie1[dvd_i]) - float(movie2[dvd_i])) \n",
      "        return (us_dist + world_dist + dvd_dist)\n",
      "    else:\n",
      "        matches = 0\n",
      "        if movie1[dist_i] == movie2[dist_i]: #distributors\n",
      "            matches += 1.0\n",
      "        if movie1[source_i] == movie2[source_i]: #sources\n",
      "            matches += 1.0\n",
      "        if movie1[genre_i] == movie2[genre_i]: #genres\n",
      "            matches += 1.0\n",
      "        nominal_dist = 1.0 - float(matches) / (3.0)\n",
      "        if isnum(movie1[mpaa_i]) and isnum(movie2[mpaa_i]):\n",
      "            mpaa_dist = abs(float(movie1[mpaa_i]) - float(movie2[mpaa_i]))\n",
      "        else:\n",
      "            mpaa_dist = 0\n",
      "        runtime_dist = abs(float(movie1[runtime_i]) - float(movie2[runtime_i]))\n",
      "        \n",
      "        vote_dist = abs(float(movie1[imdb_votes_i]) - float(movie2[imdb_votes_i])) \n",
      "        imdb_dist = abs(float(movie1[imdb_rating_i]) - float(movie2[imdb_rating_i]))\n",
      "        rotten_dist = abs(float(movie1[rotten_i]) - float(movie2[rotten_i]))\n",
      "        \n",
      "        us_dist = abs(float(movie1[us_i]) - float(movie2[us_i])) \n",
      "        world_dist = abs(float(movie1[world_i]) - float(movie2[world_i]))\n",
      "        dvd_dist = abs(float(movie1[dvd_i]) - float(movie2[dvd_i]))\n",
      "        return (nominal_dist + mpaa_dist + runtime_dist + \n",
      "                vote_dist + imdb_dist + rotten_dist + \n",
      "                us_dist + world_dist + dvd_dist)\n",
      "    \n",
      "def cosineDistance(movie1, movie2, metric):\n",
      "    if metric == \"general\":\n",
      "        if isnum(movie1[mpaa_i]):\n",
      "            mpaa_dist1 = float(movie1[mpaa_i])\n",
      "        else:\n",
      "            mpaa_dist1 = 0\n",
      "        if isnum(movie2[mpaa_i]):\n",
      "            mpaa_dist2 = float(movie2[mpaa_i])\n",
      "        else:\n",
      "            mpaa_dist2 = 0\n",
      "        mov1 = [0,0,0,mpaa_dist1, float(movie1[runtime_i])]\n",
      "        mov2 = [0,0,0,mpaa_dist2, float(movie2[runtime_i])]\n",
      "        if movie1[dist_i] == movie2[dist_i]: #distributors\n",
      "            mov1[0] = 1\n",
      "        if movie1[source_i] == movie2[source_i]: #sources\n",
      "            mov1[1] = 1\n",
      "        if movie1[genre_i] == movie2[genre_i]: #genres\n",
      "            mov1[2] = 1\n",
      "        return np.dot(mov1, mov2) / (np.linalg.norm(mov1) * np.linalg.norm(mov2))\n",
      "    elif metric == \"ratings\":\n",
      "        mov1 = []\n",
      "        mov2 = []\n",
      "        for i, datum in enumerate(movie1[rotten_i:]):\n",
      "            mov1.append(float(datum))\n",
      "        for i, datum in enumerate(movie2[rotten_i:]):\n",
      "            mov2.append(float(datum))\n",
      "        return np.dot(mov1, mov2) / (np.linalg.norm(mov1) * np.linalg.norm(mov2))\n",
      "    elif metric == \"revenue\":\n",
      "        mov1 = []\n",
      "        mov2 = []\n",
      "        for i, datum in enumerate(movie1[us_i:dvd_i+1]):\n",
      "            mov1.append(float(datum))\n",
      "        for i, datum in enumerate(movie2[us_i:dvd_i+1]):\n",
      "            mov2.append(float(datum))\n",
      "        return np.dot(mov1, mov2) / (np.linalg.norm(mov1) * np.linalg.norm(mov2))\n",
      "    else:\n",
      "        if isnum(movie1[mpaa_i]):\n",
      "            mpaa_dist1 = float(movie1[mpaa_i])\n",
      "        else:\n",
      "            mpaa_dist1 = 0\n",
      "        if isnum(movie2[mpaa_i]):\n",
      "            mpaa_dist2 = float(movie2[mpaa_i])\n",
      "        else:\n",
      "            mpaa_dist2 = 0\n",
      "        mov1 = [0,0,0,mpaa_dist1, float(movie1[runtime_i])]\n",
      "        mov2 = [0,0,0,mpaa_dist2, float(movie2[runtime_i])]\n",
      "        if movie1[dist_i] == movie2[dist_i]: #distributors\n",
      "            mov1[0] = 1\n",
      "            mov2[0] = 1\n",
      "        if movie1[source_i] == movie2[source_i]: #sources\n",
      "            mov1[0] = 1\n",
      "            mov2[0] = 1\n",
      "        if movie1[genre_i] == movie2[genre_i]: #genres\n",
      "            mov1[0] = 1\n",
      "            mov2[0] = 1\n",
      "            \n",
      "        for i, datum in enumerate(movie1[rotten_i:]):\n",
      "            mov1.append(float(datum))\n",
      "        for i, datum in enumerate(movie2[rotten_i:]):\n",
      "            mov2.append(float(datum))\n",
      "            \n",
      "        for i, datum in enumerate(movie1[us_i:dvd_i+1]):\n",
      "            mov1.append(float(datum))\n",
      "        for i, datum in enumerate(movie2[us_i:dvd_i+1]):\n",
      "            mov2.append(float(datum))\n",
      "        \n",
      "        return np.dot(mov1, mov2) / (np.linalg.norm(mov1) * np.linalg.norm(mov2))"
     ],
     "language": "python",
     "metadata": {},
     "outputs": []
    },
    {
     "cell_type": "markdown",
     "metadata": {},
     "source": [
      "I like to know how long things take to measure, so I defined a timer for computing the similarities, since it can take quite a while."
     ]
    },
    {
     "cell_type": "code",
     "collapsed": false,
     "input": [
      "from time import time\n",
      "def timer(f, *args):\n",
      "    s = time()\n",
      "    r = f(*args)\n",
      "    e = time()\n",
      "    return e - s , r\n",
      "\n",
      "def calculateDistance(dist_movies, eud, mand, cosd, metric):\n",
      "    for i, movie1 in enumerate(dist_movies):\n",
      "        for j in range(i, len(dist_movies)):\n",
      "            movie2 = dist_movies[j]\n",
      "            if (movie1 == movie2).all():\n",
      "                eud[i][j] = 0\n",
      "                mand[i][j] = 0\n",
      "                cosd[i][j] = 1\n",
      "                continue\n",
      "            eud[i][j] = euclidDistance(movie1, movie2, metric)\n",
      "            mand[i][j] = manhatDistance(movie1, movie2, metric)\n",
      "            cosd[i][j] = cosineDistance(movie1, movie2, metric)\n",
      "    return eud, mand, cosd"
     ],
     "language": "python",
     "metadata": {},
     "outputs": [],
     "prompt_number": 18
    },
    {
     "cell_type": "code",
     "collapsed": false,
     "input": [
      "metrics = [\"general\", \"ratings\", \"revenue\", \"all\"]\n",
      "euds = []\n",
      "mands = []\n",
      "cosds = []\n",
      "times = []\n",
      "computeMovies = dist_movies\n",
      "#ratings: 1200, 15s, 2400, 60s, 3200 ~~ 4min\n",
      "for metric in metrics:\n",
      "    eud = np.array([[float(0) for x in range(len(computeMovies))] for x in range(len(computeMovies))])\n",
      "    mand = np.array([[float(0) for x in range(len(computeMovies))] for x in range(len(computeMovies))])\n",
      "    cosd = np.array([[float(0) for x in range(len(computeMovies))] for x in range(len(computeMovies))])\n",
      "    timeToCalc, (eud, mand, cosd) = timer(calculateDistance, computeMovies, eud, mand, cosd, metric)\n",
      "    print \"Time: \" + str(timeToCalc)\n",
      "    euds.append(eud)\n",
      "    mands.append(mand)\n",
      "    cosds.append(cosd)\n",
      "    times.append(timeToCalc)"
     ],
     "language": "python",
     "metadata": {},
     "outputs": [
      {
       "output_type": "stream",
       "stream": "stdout",
       "text": [
        "Time: 362.963491917\n",
        "Time: 334.474318981"
       ]
      },
      {
       "output_type": "stream",
       "stream": "stdout",
       "text": [
        "\n",
        "Time: 339.637432098"
       ]
      },
      {
       "output_type": "stream",
       "stream": "stdout",
       "text": [
        "\n",
        "Time: 604.3731668"
       ]
      },
      {
       "output_type": "stream",
       "stream": "stdout",
       "text": [
        "\n"
       ]
      },
      {
       "output_type": "stream",
       "stream": "stderr",
       "text": [
        "-c:122: RuntimeWarning: invalid value encountered in double_scalars\n"
       ]
      }
     ],
     "prompt_number": 19
    },
    {
     "cell_type": "code",
     "collapsed": false,
     "input": [
      "print times"
     ],
     "language": "python",
     "metadata": {},
     "outputs": [
      {
       "output_type": "stream",
       "stream": "stdout",
       "text": [
        "[362.9634919166565, 334.47431898117065, 339.6374320983887, 604.3731667995453]\n"
       ]
      }
     ],
     "prompt_number": 57
    },
    {
     "cell_type": "heading",
     "level": 4,
     "metadata": {},
     "source": [
      "Movies displayed next to each other are most similar, using that set of attributes and distance.\n"
     ]
    },
    {
     "cell_type": "code",
     "collapsed": false,
     "input": [
      "for i, movie in enumerate(dist_movies):\n",
      "    if movie[0] == \"The Matrix\":\n",
      "        matrix_i = i\n",
      "    if movie[0] == \"The Godfather\":\n",
      "        god_i = i\n",
      "    if movie[0] == \"The Shawshank Redemption\":\n",
      "        shank_i = i\n",
      "    if movie[0] == \"Toy Story\":\n",
      "        toy_i = i\n",
      "    if movie[0] == \"The Lord of the Rings: The Fellowship of the Ring\":\n",
      "        lord_i = i\n",
      "for m, metric in enumerate(metrics):\n",
      "    print \"Attribute Set: \" + str(metric)\n",
      "    print \"\"\n",
      "    for j, eud in enumerate([euds[m], mands[m], cosds[m]]):\n",
      "        if j == 0:\n",
      "            print \"Euclidean Distance: \" \n",
      "            max_matrix = min([x for x in eud[matrix_i] if not float_equal(x,0.0)])\n",
      "            max_god = min([x for x in eud[god_i] if not float_equal(x,0.0)])\n",
      "            max_shank = min([x for x in eud[shank_i] if not float_equal(x,0.0)])\n",
      "            max_toy = min([x for x in eud[toy_i] if not float_equal(x,0.0)])\n",
      "            max_lord = min([x for x in eud[lord_i] if not float_equal(x,0.0)])\n",
      "        elif j == 1:\n",
      "            print \"Manhattan Distance: \"\n",
      "            max_matrix = min([x for x in eud[matrix_i] if not float_equal(x,0.0)])\n",
      "            max_god = min([x for x in eud[god_i] if not float_equal(x,0.0)])\n",
      "            max_shank = min([x for x in eud[shank_i] if not float_equal(x,0.0)])\n",
      "            max_toy = min([x for x in eud[toy_i] if not float_equal(x,0.0)])\n",
      "            max_lord = min([x for x in eud[lord_i] if not float_equal(x,0.0)])\n",
      "        else:\n",
      "            print \"Cosine Similarity: \" \n",
      "            max_matrix = min([x for x in eud[matrix_i] if not float_equal(x,1.0)])\n",
      "            max_god = min([x for x in eud[god_i] if not float_equal(x,1.0)])\n",
      "            max_shank = min([x for x in eud[shank_i] if not float_equal(x,1.0)])\n",
      "            max_toy = min([x for x in eud[toy_i] if not float_equal(x,1.0)])\n",
      "            max_lord = min([x for x in eud[lord_i] if not float_equal(x,1.0)])\n",
      "        \n",
      "        for i in [matrix_i, god_i, shank_i, toy_i, lord_i]:\n",
      "            for j in range(len(eud[matrix_i])):\n",
      "                if i == matrix_i and eud[i][j] == max_matrix:\n",
      "                    max_matrix_i = j\n",
      "                if i == god_i and eud[i][j] == max_god:\n",
      "                    max_god_i = j\n",
      "                if i == shank_i and eud[i][j] == max_shank:\n",
      "                    max_shank_i = j\n",
      "                if i == toy_i and eud[i][j] == max_toy:\n",
      "                    max_toy_i = j\n",
      "                if i == lord_i and eud[i][j] == max_lord:\n",
      "                    max_lord_i = j\n",
      "        \n",
      "        print \"  The Matrix : \" + str(dist_movies[max_matrix_i][0])\n",
      "        print \"  The Godfather : \" + str(dist_movies[max_god_i][0])\n",
      "        print \"  Shawshank Redemption : \" + str(dist_movies[max_shank_i][0])\n",
      "        print \"  Toy Story : \" + str(dist_movies[max_toy_i][0])\n",
      "        print \"  The Fellowship of the Ring: \" + str(dist_movies[max_lord_i][0])\n",
      "        print \"\"\n",
      "    print \"**********\"\n",
      "    print \"\""
     ],
     "language": "python",
     "metadata": {},
     "outputs": [
      {
       "output_type": "stream",
       "stream": "stdout",
       "text": [
        "Attribute Set: general\n",
        "\n",
        "Euclidean Distance: \n",
        "  The Matrix : The Negotiator\n",
        "  The Godfather : The Young Unknowns\n",
        "  Shawshank Redemption : Extreme Measures\n",
        "  Toy Story : Toy Story 3\n",
        "  The Fellowship of the Ring: Master and Commander: The Far Side of the World\n",
        "\n",
        "Manhattan Distance: \n",
        "  The Matrix : The Negotiator"
       ]
      },
      {
       "output_type": "stream",
       "stream": "stdout",
       "text": [
        "\n",
        "  The Godfather : Der Baader Meinhof Komplex\n",
        "  Shawshank Redemption : Random Hearts\n",
        "  Toy Story : Toy Story 3\n",
        "  The Fellowship of the Ring: Master and Commander: The Far Side of the World\n",
        "\n",
        "Cosine Similarity: \n",
        "  The Matrix : The Matador\n",
        "  The Godfather : Goodfellas\n",
        "  Shawshank Redemption : Showgirls\n",
        "  Toy Story : Tycoon\n",
        "  The Fellowship of the Ring: The Lord of the Rings: The Return of the King\n",
        "\n",
        "**********\n",
        "\n",
        "Attribute Set: ratings\n",
        "\n",
        "Euclidean Distance: \n",
        "  The Matrix : Saving Private Ryan"
       ]
      },
      {
       "output_type": "stream",
       "stream": "stdout",
       "text": [
        "\n",
        "  The Godfather : Pulp Fiction\n",
        "  Shawshank Redemption : The Dark Knight\n",
        "  Toy Story : Good Will Hunting\n",
        "  The Fellowship of the Ring: Memento\n",
        "\n",
        "Manhattan Distance: \n",
        "  The Matrix : Saving Private Ryan\n",
        "  The Godfather : Pulp Fiction\n",
        "  Shawshank Redemption : The Dark Knight\n",
        "  Toy Story : Good Will Hunting\n",
        "  The Fellowship of the Ring: Memento\n",
        "\n",
        "Cosine Similarity: \n",
        "  The Matrix : The Matador"
       ]
      },
      {
       "output_type": "stream",
       "stream": "stdout",
       "text": [
        "\n",
        "  The Godfather : Goodfellas\n",
        "  Shawshank Redemption : Showgirls\n",
        "  Toy Story : Tycoon\n",
        "  The Fellowship of the Ring: The Lord of the Rings: The Return of the King\n",
        "\n",
        "**********\n",
        "\n",
        "Attribute Set: revenue\n",
        "\n",
        "Euclidean Distance: \n",
        "  The Matrix : Tarzan\n",
        "  The Godfather : Bad Boys II\n",
        "  Shawshank Redemption : The Brothers\n",
        "  Toy Story : What Women Want\n",
        "  The Fellowship of the Ring: The Matrix Reloaded\n",
        "\n",
        "Manhattan Distance: \n",
        "  The Matrix : Tarzan"
       ]
      },
      {
       "output_type": "stream",
       "stream": "stdout",
       "text": [
        "\n",
        "  The Godfather : Bad Boys II\n",
        "  Shawshank Redemption : Girl, Interrupted\n",
        "  Toy Story : Jurassic Park 3\n",
        "  The Fellowship of the Ring: Star Wars Ep. II: Attack of the Clones\n",
        "\n",
        "Cosine Similarity: \n",
        "  The Matrix : The Matador\n",
        "  The Godfather : Goodfellas\n",
        "  Shawshank Redemption : Showgirls\n",
        "  Toy Story : Tycoon\n",
        "  The Fellowship of the Ring: The Lord of the Rings: The Return of the King\n",
        "\n",
        "**********\n",
        "\n",
        "Attribute Set: all\n",
        "\n",
        "Euclidean Distance: \n",
        "  The Matrix : The Matrix Reloaded"
       ]
      },
      {
       "output_type": "stream",
       "stream": "stdout",
       "text": [
        "\n",
        "  The Godfather : Reservoir Dogs\n",
        "  Shawshank Redemption : Fight Club\n",
        "  Toy Story : Toy Story 2\n",
        "  The Fellowship of the Ring: Pirates of the Caribbean: The Curse of the Black Pearl\n",
        "\n",
        "Manhattan Distance: \n",
        "  The Matrix : The Matrix Reloaded\n",
        "  The Godfather : Pulp Fiction\n",
        "  Shawshank Redemption : Fight Club\n",
        "  Toy Story : Toy Story 2\n",
        "  The Fellowship of the Ring: Pirates of the Caribbean: The Curse of the Black Pearl\n",
        "\n",
        "Cosine Similarity: \n",
        "  The Matrix : The Matador"
       ]
      },
      {
       "output_type": "stream",
       "stream": "stdout",
       "text": [
        "\n",
        "  The Godfather : Goodfellas\n",
        "  Shawshank Redemption : Showgirls\n",
        "  Toy Story : Tycoon\n",
        "  The Fellowship of the Ring: The Lord of the Rings: The Return of the King\n",
        "\n",
        "**********\n",
        "\n"
       ]
      }
     ],
     "prompt_number": 52
    },
    {
     "cell_type": "markdown",
     "metadata": {},
     "source": [
      "Using all of the metrics together, yes they do very well in identifying similar movies (all of the movies recommended as similar I would agree are similar.)\n",
      "\n",
      "The \"general\" metric had the most interesting results. Many of the recommended movies I had never heard of, but after a quick google search it seems to have done well in effectively recommending movies. \n",
      "\n",
      "The \"ratings\" metric made surprising, good recommendations about the plots/genres of movies. For instance, correlating Good Will Hunting with Toy Story is an interesting, but accurate, case. \n",
      "\n",
      "The \"revenue\" metric did well at identifying movies that were as popular in the public eye, at around the same time, though not necessarily as alike in plots. Correlating the Fellowship of the Ring with the Star Wars movie that appeared the same year is a good example. "
     ]
    },
    {
     "cell_type": "heading",
     "level": 1,
     "metadata": {},
     "source": [
      "Problem 4 - Related Dataset"
     ]
    },
    {
     "cell_type": "markdown",
     "metadata": {},
     "source": [
      "Through an easy google search I found this data set, https://archive.ics.uci.edu/ml/datasets/Movie, from Cornell University. This contains a lot of information on a film's cast and crew. Information between our data and this set could be cross-referenced to find out interesting information on the value of particular actors of filmmakers. \n",
      "\n",
      "For instance, how do movies that are like Transformers but do not have the same big name cast perform? Does the distributor affect actor popularity from the start? Using yet a third set that somehow measures actor popularity, Twitter followers perhaps, all three could be combined together to mine patterns in how actors gain popularity, or what sorts of films and connections actors need to get to star status. "
     ]
    },
    {
     "cell_type": "heading",
     "level": 1,
     "metadata": {},
     "source": [
      "Miscellaneous Questions / Problems I also analyzed"
     ]
    },
    {
     "cell_type": "markdown",
     "metadata": {},
     "source": [
      "Movies from which sources do better?"
     ]
    },
    {
     "cell_type": "code",
     "collapsed": false,
     "input": [
      "sources = []\n",
      "source_movies = []\n",
      "for movie in movies[1:]:\n",
      "    if movie[source_i] not in sources:\n",
      "        sources.append(movie[source_i])\n",
      "        source_movies.append([])\n",
      "        \n",
      "for movie in movies[1:]:\n",
      "    index = 0\n",
      "    for i, source in enumerate(sources):\n",
      "        if movie[source_i] == source:\n",
      "            index = i\n",
      "    if isnum(movie[world_i]):\n",
      "        source_movies[index].append(float(movie[world_i]))\n",
      "source_means = [np.mean(x) for x in source_movies]\n",
      "source_stds = [np.std(x) for x in source_movies]\n",
      "print source_means\n"
     ],
     "language": "python",
     "metadata": {},
     "outputs": [
      {
       "output_type": "stream",
       "stream": "stdout",
       "text": [
        "[17316549.191666666, 82096075.624755695, 67829046.375, 43080325.745454542, 110160386.52286585, 120895934.69047619, 188028113.21951219, 48227874.596774191, 139914559.625, 135444954.98113209, 50976952.666666664, 129627358.77777778, 90323299.0, 126238459.125, 85806723.833333328, 105214068.5, 674664131.0, 302469019.0, 56042592.0]\n"
       ]
      }
     ],
     "prompt_number": 47
    },
    {
     "cell_type": "code",
     "collapsed": false,
     "input": [
      "zipped = zip(source_means, source_stds, sources)\n",
      "zipped.sort(key = lambda x: x[0])\n",
      "\n",
      "N = len(sources)\n",
      "ind = np.arange(N)    # the x locations for the groups\n",
      "p1 = plt.bar(ind, [x[0] for x in zipped], 0.35, color='r', yerr=[x[1] for x in zipped])\n",
      "plt.show()\n",
      "for x in zipped:\n",
      "    print x"
     ],
     "language": "python",
     "metadata": {},
     "outputs": [
      {
       "metadata": {},
       "output_type": "display_data",
       "png": "[encoded data removed]",
       "text": [
        "<matplotlib.figure.Figure at 0x7f2e47fac1d0>"
       ]
      },
      {
       "output_type": "stream",
       "stream": "stdout",
       "text": [
        "(17316549.191666666, 37275316.941022627, '')\n",
        "(43080325.745454542, 69492664.562573552, 'Based on Play')\n",
        "(48227874.596774191, 72027608.622798443, 'Based on Real Life Events')\n",
        "(50976952.666666664, 31039082.943294588, 'Compilation')\n",
        "(56042592.0, 0.0, 'Musical Group Movie')\n",
        "(67829046.375, 69669160.25334534, 'Based on Short Film')\n",
        "(82096075.624755695, 151394921.57937899, 'Original Screenplay')\n",
        "(85806723.833333328, 100582875.97222812, 'Based on Factual Book/Article')\n",
        "(90323299.0, 85497363.138208807, 'Based on Game')\n",
        "(105214068.5, 102893984.07240242, 'Based on Magazine Article')\n",
        "(110160386.52286585, 174017569.10990757, 'Based on Book/Short Story')\n",
        "(120895934.69047619, 125194665.57854071, 'Remake')\n",
        "(126238459.125, 107093456.7304098, 'Spin-Off')\n",
        "(129627358.77777778, 88630856.183651105, 'Based on Musical/Opera')\n",
        "(135444954.98113209, 149652925.57575357, 'Based on TV')\n",
        "(139914559.625, 106264137.82101072, 'Traditional/Legend/Fairytale')\n",
        "(188028113.21951219, 221622184.31693536, 'Based on Comic/Graphic Novel')\n",
        "(302469019.0, 0.0, 'Based on Toy')\n",
        "(674664131.0, 408591074.13993609, 'Disney Ride')\n"
       ]
      }
     ],
     "prompt_number": 49
    },
    {
     "cell_type": "markdown",
     "metadata": {},
     "source": [
      "Sigh. "
     ]
    }
   ],
   "metadata": {}
  }
 ]
}